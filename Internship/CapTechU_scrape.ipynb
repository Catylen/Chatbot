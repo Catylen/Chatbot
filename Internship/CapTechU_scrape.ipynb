{
 "cells": [
  {
   "cell_type": "code",
   "execution_count": null,
   "metadata": {},
   "outputs": [],
   "source": [
    "import os\n",
    "import re\n",
    "from dotenv import load_dotenv\n",
    "from langchain.text_splitter import CharacterTextSplitter\n",
    "from langchain.text_splitter import RecursiveCharacterTextSplitter\n",
    "from langchain_community.document_loaders import WebBaseLoader\n",
    "from langchain_community.vectorstores import Chroma\n",
    "from langchain_openai import OpenAIEmbeddings\n",
    "from bs4 import BeautifulSoup"
   ]
  },
  {
   "cell_type": "code",
   "execution_count": null,
   "metadata": {},
   "outputs": [
    {
     "data": {
      "text/plain": [
       "False"
      ]
     },
     "execution_count": 2,
     "metadata": {},
     "output_type": "execute_result"
    }
   ],
   "source": [
    "#load_dotenv()"
   ]
  },
  {
   "cell_type": "code",
   "execution_count": 56,
   "metadata": {},
   "outputs": [],
   "source": [
    "current_dir = \"E:/JupyterProjects/Internship\"\n",
    "db_dir = os.path.join(current_dir, \"db\")\n",
    "persistent_directory = os.path.join(db_dir, \"db_captechu\")"
   ]
  },
  {
   "cell_type": "code",
   "execution_count": 86,
   "metadata": {},
   "outputs": [
    {
     "name": "stdout",
     "output_type": "stream",
     "text": [
      "Processed and saved chunks for: E:\\JupyterProjects\\Internship\\2024-25 Clubs and Orgs Guide Printable.txt\n",
      "Error processing E:\\JupyterProjects\\Internship\\student_guide_to_the_myCapitol_updated_172020.pdf: [Errno 2] No such file or directory: 'E:\\\\JupyterProjects\\\\Internship\\\\student_guide_to_the_myCapitol_updated_172020.pdf'\n",
      "Processed and saved chunks for: E:\\JupyterProjects\\Internship\\2024-25 Clubs and Orgs Guide Printable.txt\n",
      "Processed and saved chunks for: E:\\JupyterProjects\\Internship\\Course Catalog 2022-2023.txt\n",
      "All files processed successfully.\n"
     ]
    }
   ],
   "source": [
    "from langchain.text_splitter import RecursiveCharacterTextSplitter\n",
    "import os\n",
    "\n",
    "filepaths = [\n",
    "    r\"E:\\JupyterProjects\\Internship\\2024-25 Clubs and Orgs Guide Printable.txt\",\n",
    "    r\"E:\\JupyterProjects\\Internship\\student_guide_to_the_myCapitol_updated_172020.pdf\",\n",
    "    r\"E:\\JupyterProjects\\Internship\\2024-25 Clubs and Orgs Guide Printable.txt\",\n",
    "    r\"E:\\JupyterProjects\\Internship\\Course Catalog 2022-2023.txt\"\n",
    "]\n",
    "\n",
    "text_splitter = RecursiveCharacterTextSplitter(\n",
    "    chunk_size=1200,  # Adjust\n",
    "    chunk_overlap=100  # Adjust\n",
    ")\n",
    "\n",
    "# directory\n",
    "os.makedirs(\"doc_scraped_data\", exist_ok=True)\n",
    "\n",
    "# Process each file path\n",
    "for filepath in filepaths:\n",
    "    try:\n",
    "        # Readcurrent .txt file\n",
    "        with open(filepath, 'r', encoding='utf-8') as f:\n",
    "            content = f.read()\n",
    "        \n",
    "        # Split into chunks\n",
    "        para_list = text_splitter.create_documents(texts=[content])\n",
    "\n",
    "        # Save each chunk into a separate text file\n",
    "        for i, doc in enumerate(para_list):\n",
    "            chunk_filename = f\"doc_scraped_data/{os.path.basename(filepath)}_chunk_{i}.txt\"\n",
    "            \n",
    "            with open(chunk_filename, \"w\", encoding=\"utf-8\") as f:\n",
    "                f.write(doc.page_content)\n",
    "        \n",
    "        print(f\"Processed and saved chunks for: {filepath}\")\n",
    "    \n",
    "    except Exception as e:\n",
    "        print(f\"Error processing {filepath}: {e}\")\n",
    "\n",
    "print(\"All files processed successfully.\")\n"
   ]
  },
  {
   "cell_type": "code",
   "execution_count": null,
   "metadata": {},
   "outputs": [
    {
     "name": "stdout",
     "output_type": "stream",
     "text": [
      "Loaded 1 documents from https://mycapitol.captechu.edu/ICS/\n",
      "Loaded 1 documents from https://mycapitol.captechu.edu/ICS/Admissions/\n",
      "Loaded 1 documents from https://mycapitol.captechu.edu/ICS/Residence_Life/\n",
      "Loaded 1 documents from https://mycapitol.captechu.edu/ICS/Campus_Life/\n",
      "Loaded 1 documents from https://mycapitol.captechu.edu/ICS/College_Offices/\n",
      "Loaded 1 documents from https://mycapitol.captechu.edu/ICS/Library/\n",
      "Loaded 1 documents from https://mycapitol.captechu.edu/ICS/Public_Information/\n",
      "Loaded 1 documents from https://mycapitol.captechu.edu/ICS/College_Offices/Advising/\n",
      "Loaded 1 documents from https://mycapitol.captechu.edu/ICS/College_Offices/Business_Office/\n",
      "Loaded 1 documents from https://mycapitol.captechu.edu/ICS/College_Offices/Financial_Aid_Office/\n",
      "Loaded 1 documents from https://mycapitol.captechu.edu/ICS/College_Offices/Information_Technology/\n",
      "Loaded 1 documents from https://mycapitol.captechu.edu/ICS/College_Offices/The_Office_of_Registration_and_Records/\n",
      "Loaded 1 documents from https://www.captechu.edu/degrees-and-programs/bachelors-degrees/data-science-bs\n",
      "Loaded 1 documents from https://www.captechu.edu/about-capitol/why-capitol-tech\n",
      "Loaded 1 documents from https://www.captechu.edu/about-capitol/mission-vision-and-goals\n",
      "Loaded 1 documents from https://www.captechu.edu/student-experience/campus-life\n",
      "Loaded 1 documents from https://www.captechu.edu/about-capitol/diversity-equity-and-inclusion\n",
      "Loaded 1 documents from https://www.captechu.edu/professional-success/career-services\n",
      "Total number of chunks generated: 150\n",
      "Total chunks saved: 150\n"
     ]
    }
   ],
   "source": [
    "urls = [\n",
    "    \"https://mycapitol.captechu.edu/ICS/\", \n",
    "    \"https://mycapitol.captechu.edu/ICS/Admissions/\", \n",
    "    \"https://mycapitol.captechu.edu/ICS/Residence_Life/\",\n",
    "    \"https://mycapitol.captechu.edu/ICS/Campus_Life/\", \n",
    "    \"https://mycapitol.captechu.edu/ICS/College_Offices/\",\n",
    "    \"https://mycapitol.captechu.edu/ICS/Library/\", \n",
    "    \"https://mycapitol.captechu.edu/ICS/Public_Information/\",\n",
    "    \"https://mycapitol.captechu.edu/ICS/College_Offices/Advising/\", \n",
    "    \"https://mycapitol.captechu.edu/ICS/College_Offices/Business_Office/\",\n",
    "    \"https://mycapitol.captechu.edu/ICS/College_Offices/Financial_Aid_Office/\", \n",
    "    \"https://mycapitol.captechu.edu/ICS/College_Offices/Information_Technology/\",\n",
    "    \"https://mycapitol.captechu.edu/ICS/College_Offices/The_Office_of_Registration_and_Records/\",\n",
    "    \"https://www.captechu.edu/degrees-and-programs/bachelors-degrees/data-science-bs\",\n",
    "    \"https://www.captechu.edu/about-capitol/why-capitol-tech\",\n",
    "    \"https://www.captechu.edu/about-capitol/mission-vision-and-goals\",\n",
    "    \"https://www.captechu.edu/student-experience/campus-life\",\n",
    "    \"https://www.captechu.edu/about-capitol/diversity-equity-and-inclusion\",\n",
    "    \"https://www.captechu.edu/professional-success/career-services\"\n",
    "]\n",
    "\n",
    "\n",
    "documents = []\n",
    "\n",
    "# Iterate over each URL\n",
    "for url in urls:\n",
    "    try:\n",
    "        #loader for the current URL\n",
    "        loader = WebBaseLoader([url])\n",
    "        \n",
    "        # Load documents\n",
    "        doc = loader.load()\n",
    "        \n",
    "        # Append the documents\n",
    "        documents.extend(doc)\n",
    "        \n",
    "        # Debugging\n",
    "        print(f\"Loaded {len(doc)} documents from {url}\")\n",
    "        \n",
    "    except Exception as e:\n",
    "        print(f\"Failed to load content from {url}. Error: {e}\")\n",
    "        \n",
    "def clean_text(raw_text):\n",
    "    # Remove extra line breaks and unnecessary white spaces\n",
    "    cleaned_text = re.sub(r'\\n+', '\\n', raw_text) \n",
    "    cleaned_text = re.sub(r'\\s{2,}', ' ', cleaned_text) \n",
    "    cleaned_text = cleaned_text.strip()\n",
    "    return cleaned_text\n",
    "\n",
    "#cleaning and splitting the text\n",
    "cleaned_texts = []\n",
    "for doc in documents:\n",
    "    #Parse and clean the HTML content\n",
    "    soup = BeautifulSoup(doc.page_content, 'html.parser')\n",
    "    \n",
    "    # unwanted sections (e.g., navigation, footer)\n",
    "    for tag in soup.find_all(['nav', 'footer', 'header']):\n",
    "        tag.decompose()  # Removes these tags from the soup\n",
    "    \n",
    "    # text content\n",
    "    cleaned_text = soup.get_text(separator=\"\\n\\n\")  # preserve paragraphs\n",
    "    cleaned_texts.append(cleaned_text)\n",
    "\n",
    "# Split text\n",
    "text_splitter = RecursiveCharacterTextSplitter(chunk_size=1200, chunk_overlap=100)\n",
    "website_para_list = text_splitter.create_documents(texts=cleaned_texts)\n",
    "\n",
    "# debugging\n",
    "print(f\"Total number of chunks generated: {len(website_para_list)}\")\n",
    "\n",
    "# directory\n",
    "os.makedirs(\"scraped_data\", exist_ok=True)\n",
    "\n",
    "# Save chunks\n",
    "for i, chunk in enumerate(website_para_list):\n",
    "    with open(f\"scraped_data/chunk_{i}.txt\", \"w\", encoding=\"utf-8\") as f:\n",
    "        f.write(chunk.page_content)\n",
    "\n",
    "print(f\"Total chunks saved: {len(website_para_list)}\")\n"
   ]
  },
  {
   "cell_type": "code",
   "execution_count": null,
   "metadata": {},
   "outputs": [],
   "source": []
  }
 ],
 "metadata": {
  "kernelspec": {
   "display_name": "Python 3",
   "language": "python",
   "name": "python3"
  },
  "language_info": {
   "codemirror_mode": {
    "name": "ipython",
    "version": 3
   },
   "file_extension": ".py",
   "mimetype": "text/x-python",
   "name": "python",
   "nbconvert_exporter": "python",
   "pygments_lexer": "ipython3",
   "version": "3.11.9"
  }
 },
 "nbformat": 4,
 "nbformat_minor": 2
}
